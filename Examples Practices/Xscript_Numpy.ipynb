{
 "metadata": {
  "language_info": {
   "codemirror_mode": {
    "name": "ipython",
    "version": 3
   },
   "file_extension": ".py",
   "mimetype": "text/x-python",
   "name": "python",
   "nbconvert_exporter": "python",
   "pygments_lexer": "ipython3",
   "version": "3.7.9"
  },
  "orig_nbformat": 2,
  "kernelspec": {
   "name": "pythonjvsc74a57bd0430c3d1c7010a0dd97b72a9377c014cff5b51944f71dd9626b2e123c3779819f",
   "display_name": "Python 3.7.9  ('vFYP': venv)"
  },
  "metadata": {
   "interpreter": {
    "hash": "430c3d1c7010a0dd97b72a9377c014cff5b51944f71dd9626b2e123c3779819f"
   }
  }
 },
 "nbformat": 4,
 "nbformat_minor": 2,
 "cells": [
  {
   "cell_type": "code",
   "execution_count": 1,
   "metadata": {},
   "outputs": [],
   "source": [
    "import numpy as np # importing numpy library."
   ]
  },
  {
   "cell_type": "code",
   "execution_count": 2,
   "metadata": {},
   "outputs": [
    {
     "output_type": "stream",
     "name": "stdout",
     "text": [
      "Numpy version:  1.19.5 \nCongigurations: \nblas_mkl_info:\n  NOT AVAILABLE\nblis_info:\n  NOT AVAILABLE\nopenblas_info:\n    library_dirs = ['D:\\\\a\\\\1\\\\s\\\\numpy\\\\build\\\\openblas_info']\n    libraries = ['openblas_info']\n    language = f77\n    define_macros = [('HAVE_CBLAS', None)]\nblas_opt_info:\n    library_dirs = ['D:\\\\a\\\\1\\\\s\\\\numpy\\\\build\\\\openblas_info']\n    libraries = ['openblas_info']\n    language = f77\n    define_macros = [('HAVE_CBLAS', None)]\nlapack_mkl_info:\n  NOT AVAILABLE\nopenblas_lapack_info:\n    library_dirs = ['D:\\\\a\\\\1\\\\s\\\\numpy\\\\build\\\\openblas_lapack_info']\n    libraries = ['openblas_lapack_info']\n    language = f77\n    define_macros = [('HAVE_CBLAS', None)]\nlapack_opt_info:\n    library_dirs = ['D:\\\\a\\\\1\\\\s\\\\numpy\\\\build\\\\openblas_lapack_info']\n    libraries = ['openblas_lapack_info']\n    language = f77\n    define_macros = [('HAVE_CBLAS', None)]\n"
     ]
    }
   ],
   "source": [
    "print(\"Numpy version: \", np.__version__, \"\\nCongigurations: \")\n",
    "np.show_config()"
   ]
  },
  {
   "cell_type": "code",
   "execution_count": 3,
   "metadata": {},
   "outputs": [
    {
     "output_type": "execute_result",
     "data": {
      "text/plain": [
       "array([0., 0., 0., 0., 0., 0., 0., 0., 0., 0.])"
      ]
     },
     "metadata": {},
     "execution_count": 3
    }
   ],
   "source": [
    "np.zeros(10) # Vector of 10 Zeros or 10 Null values."
   ]
  },
  {
   "cell_type": "code",
   "execution_count": 4,
   "metadata": {},
   "outputs": [
    {
     "output_type": "stream",
     "name": "stdout",
     "text": [
      "Memory Size of _null array: 800 bytes\n"
     ]
    }
   ],
   "source": [
    "_null = np.zeros((10, 10))\n",
    "print(\"Memory Size of _null array: {} bytes\".format(_null.size * _null.itemsize))\n",
    "# Size of an array in bytes using .size and .itemsize attributes on _null array."
   ]
  },
  {
   "cell_type": "code",
   "execution_count": 5,
   "metadata": {},
   "outputs": [
    {
     "output_type": "stream",
     "name": "stdout",
     "text": [
      "add(x1, x2, /, out=None, *, where=True, casting='same_kind', order='K', dtype=None, subok=True[, signature, extobj])\n",
      "\n",
      "Add arguments element-wise.\n",
      "\n",
      "Parameters\n",
      "----------\n",
      "x1, x2 : array_like\n",
      "    The arrays to be added.\n",
      "    If ``x1.shape != x2.shape``, they must be broadcastable to a common\n",
      "    shape (which becomes the shape of the output).\n",
      "out : ndarray, None, or tuple of ndarray and None, optional\n",
      "    A location into which the result is stored. If provided, it must have\n",
      "    a shape that the inputs broadcast to. If not provided or None,\n",
      "    a freshly-allocated array is returned. A tuple (possible only as a\n",
      "    keyword argument) must have length equal to the number of outputs.\n",
      "where : array_like, optional\n",
      "    This condition is broadcast over the input. At locations where the\n",
      "    condition is True, the `out` array will be set to the ufunc result.\n",
      "    Elsewhere, the `out` array will retain its original value.\n",
      "    Note that if an uninitialized `out` array is created via the default\n",
      "    ``out=None``, locations within it where the condition is False will\n",
      "    remain uninitialized.\n",
      "**kwargs\n",
      "    For other keyword-only arguments, see the\n",
      "    :ref:`ufunc docs <ufuncs.kwargs>`.\n",
      "\n",
      "Returns\n",
      "-------\n",
      "add : ndarray or scalar\n",
      "    The sum of `x1` and `x2`, element-wise.\n",
      "    This is a scalar if both `x1` and `x2` are scalars.\n",
      "\n",
      "Notes\n",
      "-----\n",
      "Equivalent to `x1` + `x2` in terms of array broadcasting.\n",
      "\n",
      "Examples\n",
      "--------\n",
      ">>> np.add(1.0, 4.0)\n",
      "5.0\n",
      ">>> x1 = np.arange(9.0).reshape((3, 3))\n",
      ">>> x2 = np.arange(3.0)\n",
      ">>> np.add(x1, x2)\n",
      "array([[  0.,   2.,   4.],\n",
      "       [  3.,   5.,   7.],\n",
      "       [  6.,   8.,  10.]])\n"
     ]
    }
   ],
   "source": [
    "np.info(np.add) # Checking the documentation by using np.info(__any attribte or method__) to get info "
   ]
  },
  {
   "cell_type": "code",
   "execution_count": 6,
   "metadata": {},
   "outputs": [
    {
     "output_type": "execute_result",
     "data": {
      "text/plain": [
       "array([0., 0., 0., 0., 1., 0., 0., 0., 0., 0.])"
      ]
     },
     "metadata": {},
     "execution_count": 6
    }
   ],
   "source": [
    "_null = np.zeros(10) # index 4 value is one.\n",
    "_null[4] = 1\n",
    "_null"
   ]
  },
  {
   "cell_type": "code",
   "execution_count": 7,
   "metadata": {},
   "outputs": [
    {
     "output_type": "execute_result",
     "data": {
      "text/plain": [
       "array([10, 11, 12, 13, 14, 15, 16, 17, 18, 19, 20, 21, 22, 23, 24, 25, 26,\n",
       "       27, 28, 29, 30, 31, 32, 33, 34, 35, 36, 37, 38, 39, 40, 41, 42, 43,\n",
       "       44, 45, 46, 47, 48, 49])"
      ]
     },
     "metadata": {},
     "execution_count": 7
    }
   ],
   "source": [
    "_vect = np.arange(10,50) # create a vector contaning value from 10 to 49\n",
    "_vect"
   ]
  },
  {
   "cell_type": "code",
   "execution_count": 8,
   "metadata": {},
   "outputs": [
    {
     "output_type": "execute_result",
     "data": {
      "text/plain": [
       "array([49, 48, 47, 46, 45, 44, 43, 42, 41, 40, 39, 38, 37, 36, 35, 34, 33,\n",
       "       32, 31, 30, 29, 28, 27, 26, 25, 24, 23, 22, 21, 20, 19, 18, 17, 16,\n",
       "       15, 14, 13, 12, 11, 10])"
      ]
     },
     "metadata": {},
     "execution_count": 8
    }
   ],
   "source": [
    "_vect[::-1] # Reverse the Above vector"
   ]
  },
  {
   "cell_type": "code",
   "execution_count": 9,
   "metadata": {},
   "outputs": [
    {
     "output_type": "execute_result",
     "data": {
      "text/plain": [
       "array([[0, 1, 2],\n",
       "       [3, 4, 5],\n",
       "       [6, 7, 8]])"
      ]
     },
     "metadata": {},
     "execution_count": 9
    }
   ],
   "source": [
    "np.arange(0,9).reshape(3,3) # 3*3 Matrix using arange method and reshape it to 3*3 matrix"
   ]
  },
  {
   "cell_type": "code",
   "execution_count": 10,
   "metadata": {},
   "outputs": [
    {
     "output_type": "execute_result",
     "data": {
      "text/plain": [
       "3"
      ]
     },
     "metadata": {},
     "execution_count": 10
    }
   ],
   "source": [
    "_zero = np.array([1,2,0,0,4,0]) # getting the index of non zero values\n",
    "# np.count_nonzero() method return number of non zero value in sequence\n",
    "# _zero.nonzero() method return array of values that are non zero.\n",
    "np.count_nonzero(_zero) # _zero.nonzero() "
   ]
  },
  {
   "cell_type": "code",
   "execution_count": 11,
   "metadata": {},
   "outputs": [
    {
     "output_type": "execute_result",
     "data": {
      "text/plain": [
       "array([[1., 0., 0.],\n",
       "       [0., 1., 0.],\n",
       "       [0., 0., 1.]])"
      ]
     },
     "metadata": {},
     "execution_count": 11
    }
   ],
   "source": [
    "np.eye(3) # 3*3 identity matrix"
   ]
  },
  {
   "cell_type": "code",
   "execution_count": 12,
   "metadata": {},
   "outputs": [
    {
     "output_type": "execute_result",
     "data": {
      "text/plain": [
       "array([[[0.66718243, 0.53539392, 0.05616782],\n",
       "        [0.07538551, 0.5887968 , 0.48329917],\n",
       "        [0.43580759, 0.03498538, 0.33432005]],\n",
       "\n",
       "       [[0.36240633, 0.14054768, 0.60232209],\n",
       "        [0.26754555, 0.47794923, 0.99175084],\n",
       "        [0.95801756, 0.70241234, 0.80650396]],\n",
       "\n",
       "       [[0.33804456, 0.31925409, 0.89767027],\n",
       "        [0.74178245, 0.01592966, 0.25978969],\n",
       "        [0.3515326 , 0.29934561, 0.64030415]]])"
      ]
     },
     "metadata": {},
     "execution_count": 12
    }
   ],
   "source": [
    "np.random.random((3,3,3)) # 3x3x3 array with random 3 values in each row."
   ]
  },
  {
   "cell_type": "code",
   "execution_count": 13,
   "metadata": {},
   "outputs": [
    {
     "output_type": "stream",
     "name": "stdout",
     "text": [
      "Array: \n [[0.56822608 0.27855202 0.79921518 0.89577923 0.49102436 0.8242691\n  0.26899913 0.27189156 0.79633073 0.91356609]\n [0.45008623 0.8207351  0.48786405 0.54974611 0.83611139 0.71338761\n  0.83218108 0.21909671 0.12380499 0.27363398]\n [0.38888436 0.21781864 0.19962318 0.25302413 0.17982771 0.20710401\n  0.60206036 0.51477706 0.48361182 0.55874635]\n [0.23915226 0.34692339 0.80900659 0.53390981 0.69167407 0.12439393\n  0.61613628 0.36762743 0.11215676 0.37017391]\n [0.22612625 0.3817104  0.48660509 0.24201307 0.99570912 0.93097268\n  0.4176369  0.13553148 0.31486706 0.04114844]\n [0.78477511 0.4521233  0.73600954 0.41963323 0.83753701 0.83644882\n  0.19830057 0.21505829 0.46928016 0.23290159]\n [0.11072978 0.22109132 0.24946483 0.70485698 0.03467487 0.08668347\n  0.00661414 0.99304986 0.49607246 0.27184734]\n [0.00383883 0.8418991  0.03183237 0.52972664 0.50374026 0.27221361\n  0.00663194 0.45517099 0.62972645 0.42624312]\n [0.17276917 0.84576073 0.61798583 0.88163986 0.80410592 0.2055359\n  0.47056533 0.76861496 0.76871299 0.53675961]\n [0.03241827 0.010154   0.15228088 0.72706508 0.48238297 0.89710392\n  0.09530644 0.73045477 0.69920372 0.60317876]]\nMax value in array:  0.995709118126255\nMin value in array:  0.003838825822813585\n"
     ]
    }
   ],
   "source": [
    "# finding max and min value form a random number array of 10 * 10\n",
    "max_min = np.random.random((10,10))\n",
    "print(\"Array: \\n\", max_min)\n",
    "print(\"Max value in array: \", max_min.max())\n",
    "print(\"Min value in array: \", max_min.min())"
   ]
  },
  {
   "cell_type": "code",
   "execution_count": 14,
   "metadata": {},
   "outputs": [
    {
     "output_type": "stream",
     "name": "stdout",
     "text": [
      "Mean of Vector:  0.4105747417368539\n"
     ]
    }
   ],
   "source": [
    "_vect = np.random.random(30)\n",
    "print(\"Mean of Vector: \", _vect.mean())"
   ]
  },
  {
   "cell_type": "code",
   "execution_count": 15,
   "metadata": {},
   "outputs": [
    {
     "output_type": "execute_result",
     "data": {
      "text/plain": [
       "array([[1., 1., 1., 1., 1., 1., 1., 1., 1., 1.],\n",
       "       [1., 0., 0., 0., 0., 0., 0., 0., 0., 1.],\n",
       "       [1., 0., 0., 0., 0., 0., 0., 0., 0., 1.],\n",
       "       [1., 0., 0., 0., 0., 0., 0., 0., 0., 1.],\n",
       "       [1., 0., 0., 0., 0., 0., 0., 0., 0., 1.],\n",
       "       [1., 0., 0., 0., 0., 0., 0., 0., 0., 1.],\n",
       "       [1., 0., 0., 0., 0., 0., 0., 0., 0., 1.],\n",
       "       [1., 0., 0., 0., 0., 0., 0., 0., 0., 1.],\n",
       "       [1., 0., 0., 0., 0., 0., 0., 0., 0., 1.],\n",
       "       [1., 1., 1., 1., 1., 1., 1., 1., 1., 1.]])"
      ]
     },
     "metadata": {},
     "execution_count": 15
    }
   ],
   "source": [
    "# matrix containg 1 on its border and zeros inside\n",
    "one_zero = np.ones((10,10))\n",
    "one_zero[1:-1,1:-1] = 0 # fancy slicing is used\n",
    "one_zero"
   ]
  },
  {
   "cell_type": "code",
   "execution_count": 16,
   "metadata": {},
   "outputs": [
    {
     "output_type": "execute_result",
     "data": {
      "text/plain": [
       "array([[0., 0., 0., 0., 0., 0., 0.],\n",
       "       [0., 1., 1., 1., 1., 1., 0.],\n",
       "       [0., 1., 1., 1., 1., 1., 0.],\n",
       "       [0., 1., 1., 1., 1., 1., 0.],\n",
       "       [0., 1., 1., 1., 1., 1., 0.],\n",
       "       [0., 1., 1., 1., 1., 1., 0.],\n",
       "       [0., 0., 0., 0., 0., 0., 0.]])"
      ]
     },
     "metadata": {},
     "execution_count": 16
    }
   ],
   "source": [
    "zero_one = np.ones((5,5))\n",
    "np.pad(zero_one, pad_width=1, mode=\"constant\", constant_values=0)\n",
    "# using np.pad method we can fill the border of the array with any values"
   ]
  },
  {
   "cell_type": "code",
   "execution_count": 17,
   "metadata": {},
   "outputs": [
    {
     "output_type": "stream",
     "name": "stdout",
     "text": [
      " pad(*args, **kwargs)\n\nPad an array.\n\nParameters\n----------\narray : array_like of rank N\n    The array to pad.\npad_width : {sequence, array_like, int}\n    Number of values padded to the edges of each axis.\n    ((before_1, after_1), ... (before_N, after_N)) unique pad widths\n    for each axis.\n    ((before, after),) yields same before and after pad for each axis.\n    (pad,) or int is a shortcut for before = after = pad width for all\n    axes.\nmode : str or function, optional\n    One of the following string values or a user supplied function.\n\n    'constant' (default)\n        Pads with a constant value.\n    'edge'\n        Pads with the edge values of array.\n    'linear_ramp'\n        Pads with the linear ramp between end_value and the\n        array edge value.\n    'maximum'\n        Pads with the maximum value of all or part of the\n        vector along each axis.\n    'mean'\n        Pads with the mean value of all or part of the\n        vector along each axis.\n    'median'\n        Pads with the median value of all or part of the\n        vector along each axis.\n    'minimum'\n        Pads with the minimum value of all or part of the\n        vector along each axis.\n    'reflect'\n        Pads with the reflection of the vector mirrored on\n        the first and last values of the vector along each\n        axis.\n    'symmetric'\n        Pads with the reflection of the vector mirrored\n        along the edge of the array.\n    'wrap'\n        Pads with the wrap of the vector along the axis.\n        The first values are used to pad the end and the\n        end values are used to pad the beginning.\n    'empty'\n        Pads with undefined values.\n\n        .. versionadded:: 1.17\n\n    <function>\n        Padding function, see Notes.\nstat_length : sequence or int, optional\n    Used in 'maximum', 'mean', 'median', and 'minimum'.  Number of\n    values at edge of each axis used to calculate the statistic value.\n\n    ((before_1, after_1), ... (before_N, after_N)) unique statistic\n    lengths for each axis.\n\n    ((before, after),) yields same before and after statistic lengths\n    for each axis.\n\n    (stat_length,) or int is a shortcut for before = after = statistic\n    length for all axes.\n\n    Default is ``None``, to use the entire axis.\nconstant_values : sequence or scalar, optional\n    Used in 'constant'.  The values to set the padded values for each\n    axis.\n\n    ``((before_1, after_1), ... (before_N, after_N))`` unique pad constants\n    for each axis.\n\n    ``((before, after),)`` yields same before and after constants for each\n    axis.\n\n    ``(constant,)`` or ``constant`` is a shortcut for ``before = after = constant`` for\n    all axes.\n\n    Default is 0.\nend_values : sequence or scalar, optional\n    Used in 'linear_ramp'.  The values used for the ending value of the\n    linear_ramp and that will form the edge of the padded array.\n\n    ``((before_1, after_1), ... (before_N, after_N))`` unique end values\n    for each axis.\n\n    ``((before, after),)`` yields same before and after end values for each\n    axis.\n\n    ``(constant,)`` or ``constant`` is a shortcut for ``before = after = constant`` for\n    all axes.\n\n    Default is 0.\nreflect_type : {'even', 'odd'}, optional\n    Used in 'reflect', and 'symmetric'.  The 'even' style is the\n    default with an unaltered reflection around the edge value.  For\n    the 'odd' style, the extended part of the array is created by\n    subtracting the reflected values from two times the edge value.\n\nReturns\n-------\npad : ndarray\n    Padded array of rank equal to `array` with shape increased\n    according to `pad_width`.\n\nNotes\n-----\n.. versionadded:: 1.7.0\n\nFor an array with rank greater than 1, some of the padding of later\naxes is calculated from padding of previous axes.  This is easiest to\nthink about with a rank 2 array where the corners of the padded array\nare calculated by using padded values from the first axis.\n\nThe padding function, if used, should modify a rank 1 array in-place. It\nhas the following signature::\n\n    padding_func(vector, iaxis_pad_width, iaxis, kwargs)\n\nwhere\n\n    vector : ndarray\n        A rank 1 array already padded with zeros.  Padded values are\n        vector[:iaxis_pad_width[0]] and vector[-iaxis_pad_width[1]:].\n    iaxis_pad_width : tuple\n        A 2-tuple of ints, iaxis_pad_width[0] represents the number of\n        values padded at the beginning of vector where\n        iaxis_pad_width[1] represents the number of values padded at\n        the end of vector.\n    iaxis : int\n        The axis currently being calculated.\n    kwargs : dict\n        Any keyword arguments the function requires.\n\nExamples\n--------\n>>> a = [1, 2, 3, 4, 5]\n>>> np.pad(a, (2, 3), 'constant', constant_values=(4, 6))\narray([4, 4, 1, ..., 6, 6, 6])\n\n>>> np.pad(a, (2, 3), 'edge')\narray([1, 1, 1, ..., 5, 5, 5])\n\n>>> np.pad(a, (2, 3), 'linear_ramp', end_values=(5, -4))\narray([ 5,  3,  1,  2,  3,  4,  5,  2, -1, -4])\n\n>>> np.pad(a, (2,), 'maximum')\narray([5, 5, 1, 2, 3, 4, 5, 5, 5])\n\n>>> np.pad(a, (2,), 'mean')\narray([3, 3, 1, 2, 3, 4, 5, 3, 3])\n\n>>> np.pad(a, (2,), 'median')\narray([3, 3, 1, 2, 3, 4, 5, 3, 3])\n\n>>> a = [[1, 2], [3, 4]]\n>>> np.pad(a, ((3, 2), (2, 3)), 'minimum')\narray([[1, 1, 1, 2, 1, 1, 1],\n       [1, 1, 1, 2, 1, 1, 1],\n       [1, 1, 1, 2, 1, 1, 1],\n       [1, 1, 1, 2, 1, 1, 1],\n       [3, 3, 3, 4, 3, 3, 3],\n       [1, 1, 1, 2, 1, 1, 1],\n       [1, 1, 1, 2, 1, 1, 1]])\n\n>>> a = [1, 2, 3, 4, 5]\n>>> np.pad(a, (2, 3), 'reflect')\narray([3, 2, 1, 2, 3, 4, 5, 4, 3, 2])\n\n>>> np.pad(a, (2, 3), 'reflect', reflect_type='odd')\narray([-1,  0,  1,  2,  3,  4,  5,  6,  7,  8])\n\n>>> np.pad(a, (2, 3), 'symmetric')\narray([2, 1, 1, 2, 3, 4, 5, 5, 4, 3])\n\n>>> np.pad(a, (2, 3), 'symmetric', reflect_type='odd')\narray([0, 1, 1, 2, 3, 4, 5, 5, 6, 7])\n\n>>> np.pad(a, (2, 3), 'wrap')\narray([4, 5, 1, 2, 3, 4, 5, 1, 2, 3])\n\n>>> def pad_with(vector, pad_width, iaxis, kwargs):\n...     pad_value = kwargs.get('padder', 10)\n...     vector[:pad_width[0]] = pad_value\n...     vector[-pad_width[1]:] = pad_value\n>>> a = np.arange(6)\n>>> a = a.reshape((2, 3))\n>>> np.pad(a, 2, pad_with)\narray([[10, 10, 10, 10, 10, 10, 10],\n       [10, 10, 10, 10, 10, 10, 10],\n       [10, 10,  0,  1,  2, 10, 10],\n       [10, 10,  3,  4,  5, 10, 10],\n       [10, 10, 10, 10, 10, 10, 10],\n       [10, 10, 10, 10, 10, 10, 10]])\n>>> np.pad(a, 2, pad_with, padder=100)\narray([[100, 100, 100, 100, 100, 100, 100],\n       [100, 100, 100, 100, 100, 100, 100],\n       [100, 100,   0,   1,   2, 100, 100],\n       [100, 100,   3,   4,   5, 100, 100],\n       [100, 100, 100, 100, 100, 100, 100],\n       [100, 100, 100, 100, 100, 100, 100]])\n"
     ]
    }
   ],
   "source": [
    "np.info(np.pad)"
   ]
  },
  {
   "cell_type": "code",
   "execution_count": 18,
   "metadata": {},
   "outputs": [
    {
     "output_type": "execute_result",
     "data": {
      "text/plain": [
       "array([4, 4, 4, 1, 2, 3, 4, 5, 6, 6, 6])"
      ]
     },
     "metadata": {},
     "execution_count": 18
    }
   ],
   "source": [
    "a = [1, 2, 3, 4, 5]\n",
    "np.pad(a, (3, 3), 'constant', constant_values=(4, 6))"
   ]
  },
  {
   "cell_type": "code",
   "execution_count": 19,
   "metadata": {},
   "outputs": [
    {
     "output_type": "stream",
     "name": "stdout",
     "text": [
      "0 * np.nan:  nan\nnp.nan == np.nan: False\nnp.inf > np.nan: False\nnp.nan - np.nan:  nan\nnp.nan in set([np.nan]):  True\n0.3 == 3 * 0.1:  False\n"
     ]
    }
   ],
   "source": [
    "# result of the follwing expresion\n",
    "# NaN = not a number, inf = infinity\n",
    "print(\"0 * np.nan: \", 0 * np.nan)\n",
    "print(\"np.nan == np.nan:\", np.nan == np.nan)\n",
    "print(\"np.inf > np.nan:\", np.inf > np.nan)\n",
    "print(\"np.nan - np.nan: \",np.nan - np.nan)\n",
    "print(\"np.nan in set([np.nan]): \", np.nan in set([np.nan]))\n",
    "print(\"0.3 == 3 * 0.1: \",0.3 == 3 * 0.1)"
   ]
  },
  {
   "cell_type": "code",
   "execution_count": 20,
   "metadata": {},
   "outputs": [
    {
     "output_type": "execute_result",
     "data": {
      "text/plain": [
       "array([[0, 0, 0, 0, 0],\n",
       "       [1, 0, 0, 0, 0],\n",
       "       [0, 2, 0, 0, 0],\n",
       "       [0, 0, 3, 0, 0],\n",
       "       [0, 0, 0, 4, 0]])"
      ]
     },
     "metadata": {},
     "execution_count": 20
    }
   ],
   "source": [
    "# matrix containg values just below the diaglon 1,2,3,4\n",
    "_mat = np.diag(1 + np.arange(4), k=-1)\n",
    "_mat"
   ]
  },
  {
   "cell_type": "code",
   "execution_count": 21,
   "metadata": {},
   "outputs": [
    {
     "output_type": "stream",
     "name": "stdout",
     "text": [
      " diag(*args, **kwargs)\n\nExtract a diagonal or construct a diagonal array.\n\nSee the more detailed documentation for ``numpy.diagonal`` if you use this\nfunction to extract a diagonal and wish to write to the resulting array;\nwhether it returns a copy or a view depends on what version of numpy you\nare using.\n\nParameters\n----------\nv : array_like\n    If `v` is a 2-D array, return a copy of its `k`-th diagonal.\n    If `v` is a 1-D array, return a 2-D array with `v` on the `k`-th\n    diagonal.\nk : int, optional\n    Diagonal in question. The default is 0. Use `k>0` for diagonals\n    above the main diagonal, and `k<0` for diagonals below the main\n    diagonal.\n\nReturns\n-------\nout : ndarray\n    The extracted diagonal or constructed diagonal array.\n\nSee Also\n--------\ndiagonal : Return specified diagonals.\ndiagflat : Create a 2-D array with the flattened input as a diagonal.\ntrace : Sum along diagonals.\ntriu : Upper triangle of an array.\ntril : Lower triangle of an array.\n\nExamples\n--------\n>>> x = np.arange(9).reshape((3,3))\n>>> x\narray([[0, 1, 2],\n       [3, 4, 5],\n       [6, 7, 8]])\n\n>>> np.diag(x)\narray([0, 4, 8])\n>>> np.diag(x, k=1)\narray([1, 5])\n>>> np.diag(x, k=-1)\narray([3, 7])\n\n>>> np.diag(np.diag(x))\narray([[0, 0, 0],\n       [0, 4, 0],\n       [0, 0, 8]])\n"
     ]
    }
   ],
   "source": [
    "np.info(np.diag)"
   ]
  },
  {
   "cell_type": "code",
   "execution_count": 22,
   "metadata": {},
   "outputs": [
    {
     "output_type": "execute_result",
     "data": {
      "text/plain": [
       "array([[0, 1, 0, 1, 0, 1, 0, 1],\n",
       "       [1, 0, 1, 0, 1, 0, 1, 0],\n",
       "       [0, 1, 0, 1, 0, 1, 0, 1],\n",
       "       [1, 0, 1, 0, 1, 0, 1, 0],\n",
       "       [0, 1, 0, 1, 0, 1, 0, 1],\n",
       "       [1, 0, 1, 0, 1, 0, 1, 0],\n",
       "       [0, 1, 0, 1, 0, 1, 0, 1],\n",
       "       [1, 0, 1, 0, 1, 0, 1, 0]])"
      ]
     },
     "metadata": {},
     "execution_count": 22
    }
   ],
   "source": [
    "# 8*8 Array containg checkboard pattren\n",
    "_zero = np.zeros((8,8), dtype=int)\n",
    "_zero[1::2, ::2] = 1\n",
    "_zero[::2, 1::2] = 1\n",
    "_zero"
   ]
  },
  {
   "cell_type": "code",
   "execution_count": 23,
   "metadata": {},
   "outputs": [
    {
     "output_type": "stream",
     "name": "stdout",
     "text": [
      " unravel_index(*args, **kwargs)\n\nunravel_index(indices, shape, order='C')\n\nConverts a flat index or array of flat indices into a tuple\nof coordinate arrays.\n\nParameters\n----------\nindices : array_like\n    An integer array whose elements are indices into the flattened\n    version of an array of dimensions ``shape``. Before version 1.6.0,\n    this function accepted just one index value.\nshape : tuple of ints\n    The shape of the array to use for unraveling ``indices``.\n\n    .. versionchanged:: 1.16.0\n        Renamed from ``dims`` to ``shape``.\n\norder : {'C', 'F'}, optional\n    Determines whether the indices should be viewed as indexing in\n    row-major (C-style) or column-major (Fortran-style) order.\n\n    .. versionadded:: 1.6.0\n\nReturns\n-------\nunraveled_coords : tuple of ndarray\n    Each array in the tuple has the same shape as the ``indices``\n    array.\n\nSee Also\n--------\nravel_multi_index\n\nExamples\n--------\n>>> np.unravel_index([22, 41, 37], (7,6))\n(array([3, 6, 6]), array([4, 5, 1]))\n>>> np.unravel_index([31, 41, 13], (7,6), order='F')\n(array([3, 6, 6]), array([4, 5, 1]))\n\n>>> np.unravel_index(1621, (6,7,8,9))\n(3, 1, 4, 1)\n"
     ]
    }
   ],
   "source": [
    "np.info(np.unravel_index)"
   ]
  },
  {
   "cell_type": "code",
   "execution_count": 24,
   "metadata": {},
   "outputs": [
    {
     "output_type": "execute_result",
     "data": {
      "text/plain": [
       "(1, 5, 3)"
      ]
     },
     "metadata": {},
     "execution_count": 24
    }
   ],
   "source": [
    "# _zero = np.zeros((1,5,3))\n",
    "np.unravel_index(99, (6,7,8))\n",
    "# getting index of 100th element in an array of (6,7,8) which is (1,5,3) => 1st matrix 5th row 3rd coloum"
   ]
  },
  {
   "cell_type": "code",
   "execution_count": 25,
   "metadata": {},
   "outputs": [
    {
     "output_type": "stream",
     "name": "stdout",
     "text": [
      " tile(*args, **kwargs)\n\nConstruct an array by repeating A the number of times given by reps.\n\nIf `reps` has length ``d``, the result will have dimension of\n``max(d, A.ndim)``.\n\nIf ``A.ndim < d``, `A` is promoted to be d-dimensional by prepending new\naxes. So a shape (3,) array is promoted to (1, 3) for 2-D replication,\nor shape (1, 1, 3) for 3-D replication. If this is not the desired\nbehavior, promote `A` to d-dimensions manually before calling this\nfunction.\n\nIf ``A.ndim > d``, `reps` is promoted to `A`.ndim by pre-pending 1's to it.\nThus for an `A` of shape (2, 3, 4, 5), a `reps` of (2, 2) is treated as\n(1, 1, 2, 2).\n\nNote : Although tile may be used for broadcasting, it is strongly\nrecommended to use numpy's broadcasting operations and functions.\n\nParameters\n----------\nA : array_like\n    The input array.\nreps : array_like\n    The number of repetitions of `A` along each axis.\n\nReturns\n-------\nc : ndarray\n    The tiled output array.\n\nSee Also\n--------\nrepeat : Repeat elements of an array.\nbroadcast_to : Broadcast an array to a new shape\n\nExamples\n--------\n>>> a = np.array([0, 1, 2])\n>>> np.tile(a, 2)\narray([0, 1, 2, 0, 1, 2])\n>>> np.tile(a, (2, 2))\narray([[0, 1, 2, 0, 1, 2],\n       [0, 1, 2, 0, 1, 2]])\n>>> np.tile(a, (2, 1, 2))\narray([[[0, 1, 2, 0, 1, 2]],\n       [[0, 1, 2, 0, 1, 2]]])\n\n>>> b = np.array([[1, 2], [3, 4]])\n>>> np.tile(b, 2)\narray([[1, 2, 1, 2],\n       [3, 4, 3, 4]])\n>>> np.tile(b, (2, 1))\narray([[1, 2],\n       [3, 4],\n       [1, 2],\n       [3, 4]])\n\n>>> c = np.array([1,2,3,4])\n>>> np.tile(c,(4,1))\narray([[1, 2, 3, 4],\n       [1, 2, 3, 4],\n       [1, 2, 3, 4],\n       [1, 2, 3, 4]])\n"
     ]
    }
   ],
   "source": [
    "np.info(np.tile)"
   ]
  },
  {
   "cell_type": "code",
   "execution_count": 26,
   "metadata": {},
   "outputs": [
    {
     "output_type": "execute_result",
     "data": {
      "text/plain": [
       "array([[0, 1, 0, 1],\n",
       "       [1, 0, 1, 0],\n",
       "       [0, 1, 0, 1],\n",
       "       [1, 0, 1, 0]])"
      ]
     },
     "metadata": {},
     "execution_count": 26
    }
   ],
   "source": [
    "np.tile(np.array([[0,1], [1,0]]), (2,2))"
   ]
  },
  {
   "cell_type": "code",
   "execution_count": 27,
   "metadata": {},
   "outputs": [
    {
     "output_type": "execute_result",
     "data": {
      "text/plain": [
       "array([[ 1.03249309,  0.4967902 ,  0.3677121 , -1.64517081, -0.13884269],\n",
       "       [ 0.61114158, -1.55263151, -0.04879052, -1.29947253, -1.63769987],\n",
       "       [ 0.50350842, -1.44181329,  1.04031447, -0.15299202, -0.36575729],\n",
       "       [ 0.23804326,  0.47478017,  1.23575828,  1.2509709 ,  0.85478177],\n",
       "       [-1.11816261,  1.03082733, -1.43385044,  1.15051095,  0.54755106]])"
      ]
     },
     "metadata": {},
     "execution_count": 27
    }
   ],
   "source": [
    "# normalizing a random 5*5 matrix\n",
    "_mat = np.random.random((5,5))\n",
    "_mat = (_mat - np.mean(_mat))/np.std(_mat)\n",
    "_mat"
   ]
  },
  {
   "cell_type": "code",
   "execution_count": 28,
   "metadata": {},
   "outputs": [
    {
     "output_type": "execute_result",
     "data": {
      "text/plain": [
       "dtype([('R', 'u1'), ('B', 'u1'), ('G', 'u1'), ('A', 'u1')])"
      ]
     },
     "metadata": {},
     "execution_count": 28
    }
   ],
   "source": [
    "# custom dtype that describe a color as a four unsigned bytes\n",
    "np.dtype([('R', np.ubyte),\n",
    "        ('B', np.ubyte),\n",
    "        ('G', np.ubyte),\n",
    "        ('A', np.ubyte)])"
   ]
  },
  {
   "cell_type": "code",
   "execution_count": 29,
   "metadata": {},
   "outputs": [
    {
     "output_type": "execute_result",
     "data": {
      "text/plain": [
       "array([[3., 3.],\n",
       "       [3., 3.],\n",
       "       [3., 3.],\n",
       "       [3., 3.],\n",
       "       [3., 3.]])"
      ]
     },
     "metadata": {},
     "execution_count": 29
    }
   ],
   "source": [
    "# Multiply a 5x3 matrix by a 3x2 matrix (real matrix product)\n",
    "_mat1 = np.ones((5,3))\n",
    "_mat2 = np.ones((3,2))\n",
    "np.dot(_mat1, _mat2)"
   ]
  },
  {
   "cell_type": "code",
   "execution_count": 30,
   "metadata": {},
   "outputs": [
    {
     "output_type": "execute_result",
     "data": {
      "text/plain": [
       "array([[3., 3.],\n",
       "       [3., 3.],\n",
       "       [3., 3.],\n",
       "       [3., 3.],\n",
       "       [3., 3.]])"
      ]
     },
     "metadata": {},
     "execution_count": 30
    }
   ],
   "source": [
    "# alternate solution of above cell\n",
    "np.ones((5,3)) @ np.ones((3,2))"
   ]
  },
  {
   "cell_type": "code",
   "execution_count": 31,
   "metadata": {},
   "outputs": [
    {
     "output_type": "execute_result",
     "data": {
      "text/plain": [
       "array([ 0,  1,  2,  3,  4,  5,  6,  7,  8,  9, 10])"
      ]
     },
     "metadata": {},
     "execution_count": 31
    }
   ],
   "source": [
    "# negate all the element between 3 and 8\n",
    "_vect = np.arange(11)\n",
    "_vect[(3 < _vect ) & (_vect < 8)] # can use marker as a *= -1 to identify values.\n",
    "_vect"
   ]
  },
  {
   "cell_type": "code",
   "execution_count": 32,
   "metadata": {},
   "outputs": [
    {
     "output_type": "stream",
     "name": "stdout",
     "text": [
      "9\n10\n"
     ]
    }
   ],
   "source": [
    "print(sum(range(5),-1))\n",
    "from numpy import *\n",
    "print(sum(range(5),-1))\n",
    "# the output will be 9 & 10. If you run cell again the output will be 10 & 10"
   ]
  },
  {
   "cell_type": "code",
   "execution_count": 58,
   "metadata": {},
   "outputs": [
    {
     "output_type": "execute_result",
     "data": {
      "text/plain": [
       "array([0, 1, 2, 4, 8], dtype=int32)"
      ]
     },
     "metadata": {},
     "execution_count": 58
    }
   ],
   "source": [
    "_vector = np.arange(5)\n",
    "# _vector**_vector\n",
    "# 2 << _vector >> 2\n",
    "# _vector <- _vector\n",
    "# 1j*_vector\n",
    "# _vector/1/1\n",
    "# _vector.any() < _vector.any() >_vector.any() # it can also use all() method"
   ]
  },
  {
   "cell_type": "code",
   "execution_count": 41,
   "metadata": {},
   "outputs": [
    {
     "output_type": "stream",
     "name": "stdout",
     "text": [
      "class:  ndarray\nshape:  (5,)\nstrides:  (4,)\nitemsize:  4\naligned:  True\ncontiguous:  True\nfortran:  True\ndata pointer: 0x197b5ca25c0\nbyteorder:  little\nbyteswap:  False\ntype: int32\n"
     ]
    }
   ],
   "source": [
    "np.info(2 << _vector >> 2)"
   ]
  },
  {
   "cell_type": "code",
   "execution_count": 126,
   "metadata": {},
   "outputs": [
    {
     "output_type": "stream",
     "name": "stdout",
     "text": [
      "10\n10\n"
     ]
    }
   ],
   "source": []
  },
  {
   "cell_type": "code",
   "execution_count": null,
   "metadata": {},
   "outputs": [],
   "source": []
  }
 ]
}